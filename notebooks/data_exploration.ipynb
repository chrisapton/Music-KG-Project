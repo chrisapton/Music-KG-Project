{
 "cells": [
  {
   "cell_type": "code",
   "execution_count": 1,
   "id": "initial_id",
   "metadata": {
    "collapsed": true,
    "ExecuteTime": {
     "end_time": "2025-04-25T22:27:44.278485Z",
     "start_time": "2025-04-25T22:27:43.894803Z"
    }
   },
   "outputs": [],
   "source": [
    "from neo4j import GraphDatabase\n",
    "import pandas as pd"
   ]
  },
  {
   "cell_type": "code",
   "outputs": [],
   "source": [
    "# Neo4j connection info\n",
    "NEO4J_URI = \"bolt://localhost:7687\"\n",
    "NEO4J_USER = \"neo4j\"\n",
    "NEO4J_PASSWORD = \"testpassword\"\n",
    "\n",
    "# Connect\n",
    "driver = GraphDatabase.driver(NEO4J_URI, auth=(NEO4J_USER, NEO4J_PASSWORD))"
   ],
   "metadata": {
    "collapsed": false,
    "ExecuteTime": {
     "end_time": "2025-04-25T22:27:44.281275Z",
     "start_time": "2025-04-25T22:27:44.279449Z"
    }
   },
   "id": "5e16a2171b567422",
   "execution_count": 2
  },
  {
   "cell_type": "code",
   "outputs": [],
   "source": [
    "def run_query(query, params=None):\n",
    "    with driver.session() as session:\n",
    "        result = session.run(query, parameters=params or {})\n",
    "        return pd.DataFrame([r.data() for r in result])"
   ],
   "metadata": {
    "collapsed": false,
    "ExecuteTime": {
     "end_time": "2025-04-25T22:27:44.283678Z",
     "start_time": "2025-04-25T22:27:44.281932Z"
    }
   },
   "id": "b9ece67408ea3e5d",
   "execution_count": 3
  },
  {
   "cell_type": "markdown",
   "source": [
    "## Total number of songs"
   ],
   "metadata": {
    "collapsed": false
   },
   "id": "ea79a0e0d9c1c961"
  },
  {
   "cell_type": "code",
   "outputs": [
    {
     "data": {
      "text/plain": "   total_songs\n0        11530",
      "text/html": "<div>\n<style scoped>\n    .dataframe tbody tr th:only-of-type {\n        vertical-align: middle;\n    }\n\n    .dataframe tbody tr th {\n        vertical-align: top;\n    }\n\n    .dataframe thead th {\n        text-align: right;\n    }\n</style>\n<table border=\"1\" class=\"dataframe\">\n  <thead>\n    <tr style=\"text-align: right;\">\n      <th></th>\n      <th>total_songs</th>\n    </tr>\n  </thead>\n  <tbody>\n    <tr>\n      <th>0</th>\n      <td>11530</td>\n    </tr>\n  </tbody>\n</table>\n</div>"
     },
     "execution_count": 4,
     "metadata": {},
     "output_type": "execute_result"
    }
   ],
   "source": [
    "query = \"MATCH (s:Song) RETURN COUNT(s) AS total_songs\"\n",
    "run_query(query)"
   ],
   "metadata": {
    "collapsed": false,
    "ExecuteTime": {
     "end_time": "2025-04-13T21:37:13.585913Z",
     "start_time": "2025-04-13T21:37:13.454297Z"
    }
   },
   "id": "bd2abf5589d916d8",
   "execution_count": 4
  },
  {
   "cell_type": "markdown",
   "source": [
    "## Top sampled songs"
   ],
   "metadata": {
    "collapsed": false
   },
   "id": "d6fbb7bc3e2c2db5"
  },
  {
   "cell_type": "code",
   "outputs": [
    {
     "data": {
      "text/plain": "                                     song_id  \\\n0               Lyn-Collins/Think-(About-It)   \n1    Beside/Change-the-Beat-(Female-Version)   \n2                 The-Winstons/Amen,-Brother   \n3                  Doug-E.-Fresh/La-Di-Da-Di   \n4                  James-Brown/Funky-Drummer   \n5  Run-DMC/Here-We-Go-(Live-at-the-Funhouse)   \n6   The-Honey-Drippers/Impeach-the-President   \n7                       Lil-Jon/Who-U-Wit%3F   \n8                          Mountain/Long-Red   \n9                              YG/I%27m-Good   \n\n                          song_title                   artist_names  \\\n0                   Think (About It)                  [Lyn Collins]   \n1   Change the Beat (Female Version)                       [Beside]   \n2                      Amen, Brother                 [The Winstons]   \n3                        La Di Da Di    [Slick Rick, Doug E. Fresh]   \n4                      Funky Drummer                             []   \n5  Here We Go (Live at the Funhouse)                             []   \n6              Impeach the President                             []   \n7                         Who U Wit?  [The East Side Boyz, Lil Jon]   \n8                           Long Red                     [Mountain]   \n9                           I'm Good                           [YG]   \n\n   times_sampled  \n0             38  \n1             31  \n2             27  \n3             24  \n4             24  \n5             23  \n6             21  \n7             21  \n8             20  \n9             17  ",
      "text/html": "<div>\n<style scoped>\n    .dataframe tbody tr th:only-of-type {\n        vertical-align: middle;\n    }\n\n    .dataframe tbody tr th {\n        vertical-align: top;\n    }\n\n    .dataframe thead th {\n        text-align: right;\n    }\n</style>\n<table border=\"1\" class=\"dataframe\">\n  <thead>\n    <tr style=\"text-align: right;\">\n      <th></th>\n      <th>song_id</th>\n      <th>song_title</th>\n      <th>artist_names</th>\n      <th>times_sampled</th>\n    </tr>\n  </thead>\n  <tbody>\n    <tr>\n      <th>0</th>\n      <td>Lyn-Collins/Think-(About-It)</td>\n      <td>Think (About It)</td>\n      <td>[Lyn Collins]</td>\n      <td>38</td>\n    </tr>\n    <tr>\n      <th>1</th>\n      <td>Beside/Change-the-Beat-(Female-Version)</td>\n      <td>Change the Beat (Female Version)</td>\n      <td>[Beside]</td>\n      <td>31</td>\n    </tr>\n    <tr>\n      <th>2</th>\n      <td>The-Winstons/Amen,-Brother</td>\n      <td>Amen, Brother</td>\n      <td>[The Winstons]</td>\n      <td>27</td>\n    </tr>\n    <tr>\n      <th>3</th>\n      <td>Doug-E.-Fresh/La-Di-Da-Di</td>\n      <td>La Di Da Di</td>\n      <td>[Slick Rick, Doug E. Fresh]</td>\n      <td>24</td>\n    </tr>\n    <tr>\n      <th>4</th>\n      <td>James-Brown/Funky-Drummer</td>\n      <td>Funky Drummer</td>\n      <td>[]</td>\n      <td>24</td>\n    </tr>\n    <tr>\n      <th>5</th>\n      <td>Run-DMC/Here-We-Go-(Live-at-the-Funhouse)</td>\n      <td>Here We Go (Live at the Funhouse)</td>\n      <td>[]</td>\n      <td>23</td>\n    </tr>\n    <tr>\n      <th>6</th>\n      <td>The-Honey-Drippers/Impeach-the-President</td>\n      <td>Impeach the President</td>\n      <td>[]</td>\n      <td>21</td>\n    </tr>\n    <tr>\n      <th>7</th>\n      <td>Lil-Jon/Who-U-Wit%3F</td>\n      <td>Who U Wit?</td>\n      <td>[The East Side Boyz, Lil Jon]</td>\n      <td>21</td>\n    </tr>\n    <tr>\n      <th>8</th>\n      <td>Mountain/Long-Red</td>\n      <td>Long Red</td>\n      <td>[Mountain]</td>\n      <td>20</td>\n    </tr>\n    <tr>\n      <th>9</th>\n      <td>YG/I%27m-Good</td>\n      <td>I'm Good</td>\n      <td>[YG]</td>\n      <td>17</td>\n    </tr>\n  </tbody>\n</table>\n</div>"
     },
     "execution_count": 10,
     "metadata": {},
     "output_type": "execute_result"
    }
   ],
   "source": [
    "query = \"\"\"\n",
    "MATCH (:Song)-[r:SAMPLES]->(target:Song)\n",
    "WITH target, COUNT(DISTINCT r) AS times_sampled\n",
    "OPTIONAL MATCH (target)-[:HAS_ARTIST]->(artist:Artist)\n",
    "WITH target.id AS song_id,\n",
    "     target.title AS song_title,\n",
    "     COLLECT(DISTINCT artist.name) AS artist_names,\n",
    "     times_sampled\n",
    "RETURN song_id, song_title, artist_names, times_sampled\n",
    "ORDER BY times_sampled DESC\n",
    "LIMIT 10\n",
    "\"\"\"\n",
    "run_query(query)"
   ],
   "metadata": {
    "collapsed": false,
    "ExecuteTime": {
     "end_time": "2025-04-13T21:42:13.085418Z",
     "start_time": "2025-04-13T21:42:12.888741Z"
    }
   },
   "id": "3233fe7cee2e753b",
   "execution_count": 10
  },
  {
   "cell_type": "markdown",
   "source": [
    "## Genre distribution"
   ],
   "metadata": {
    "collapsed": false
   },
   "id": "f00317310dbd2554"
  },
  {
   "cell_type": "code",
   "outputs": [
    {
     "data": {
      "text/plain": "                         genre  count\n0                      hip hop   2424\n1           east coast hip hop    745\n2                  gangsta rap    544\n3                   electronic    539\n4                          rap    521\n...                        ...    ...\n1400  rap/alternative and punk      1\n1401                         ?      1\n1402                  jermaine      1\n1403               rap hip-hop      1\n1404          psychedelic folk      1\n\n[1405 rows x 2 columns]",
      "text/html": "<div>\n<style scoped>\n    .dataframe tbody tr th:only-of-type {\n        vertical-align: middle;\n    }\n\n    .dataframe tbody tr th {\n        vertical-align: top;\n    }\n\n    .dataframe thead th {\n        text-align: right;\n    }\n</style>\n<table border=\"1\" class=\"dataframe\">\n  <thead>\n    <tr style=\"text-align: right;\">\n      <th></th>\n      <th>genre</th>\n      <th>count</th>\n    </tr>\n  </thead>\n  <tbody>\n    <tr>\n      <th>0</th>\n      <td>hip hop</td>\n      <td>2424</td>\n    </tr>\n    <tr>\n      <th>1</th>\n      <td>east coast hip hop</td>\n      <td>745</td>\n    </tr>\n    <tr>\n      <th>2</th>\n      <td>gangsta rap</td>\n      <td>544</td>\n    </tr>\n    <tr>\n      <th>3</th>\n      <td>electronic</td>\n      <td>539</td>\n    </tr>\n    <tr>\n      <th>4</th>\n      <td>rap</td>\n      <td>521</td>\n    </tr>\n    <tr>\n      <th>...</th>\n      <td>...</td>\n      <td>...</td>\n    </tr>\n    <tr>\n      <th>1400</th>\n      <td>rap/alternative and punk</td>\n      <td>1</td>\n    </tr>\n    <tr>\n      <th>1401</th>\n      <td>?</td>\n      <td>1</td>\n    </tr>\n    <tr>\n      <th>1402</th>\n      <td>jermaine</td>\n      <td>1</td>\n    </tr>\n    <tr>\n      <th>1403</th>\n      <td>rap hip-hop</td>\n      <td>1</td>\n    </tr>\n    <tr>\n      <th>1404</th>\n      <td>psychedelic folk</td>\n      <td>1</td>\n    </tr>\n  </tbody>\n</table>\n<p>1405 rows × 2 columns</p>\n</div>"
     },
     "execution_count": 14,
     "metadata": {},
     "output_type": "execute_result"
    }
   ],
   "source": [
    "query = \"\"\"\n",
    "MATCH (:Song)-[:BELONGS_TO_GENRE]->(g:Genre)\n",
    "RETURN g.name AS genre, COUNT(*) AS count\n",
    "ORDER BY count DESC\n",
    "\"\"\"\n",
    "run_query(query)"
   ],
   "metadata": {
    "collapsed": false,
    "ExecuteTime": {
     "end_time": "2025-04-14T03:58:28.012749Z",
     "start_time": "2025-04-14T03:58:27.910701Z"
    }
   },
   "id": "196455424cf7ebb3",
   "execution_count": 14
  },
  {
   "cell_type": "markdown",
   "source": [
    "## Community"
   ],
   "metadata": {
    "collapsed": false
   },
   "id": "538e33308ac1bc99"
  },
  {
   "cell_type": "code",
   "outputs": [
    {
     "data": {
      "text/plain": "     sampling_community  danceability_danceable  genre_dortmund_alternative  \\\n0                   115                0.653694                    0.019310   \n1                   139                0.720428                    0.022757   \n2                    72                0.685935                    0.017469   \n3                    59                     NaN                         NaN   \n4                    46                0.839255                    0.011483   \n..                  ...                     ...                         ...   \n154                 123                0.622672                    0.056932   \n155                  63                0.998816                    0.007260   \n156                 144                0.973150                    0.004699   \n157                 145                     NaN                         NaN   \n158                  29                     NaN                         NaN   \n\n     genre_dortmund_blues  genre_dortmund_electronic  \\\n0                0.027513                   0.836702   \n1                0.019207                   0.839445   \n2                0.026961                   0.824337   \n3                     NaN                        NaN   \n4                0.015677                   0.917328   \n..                    ...                        ...   \n154              0.066231                   0.605073   \n155              0.000861                   0.988166   \n156              0.000458                   0.993046   \n157                   NaN                        NaN   \n158                   NaN                        NaN   \n\n     genre_dortmund_folkcountry  genre_dortmund_funksoulrnb  \\\n0                      0.025528                    0.003441   \n1                      0.064314                    0.002576   \n2                      0.023274                    0.003995   \n3                           NaN                         NaN   \n4                      0.016169                    0.002342   \n..                          ...                         ...   \n154                    0.165901                    0.008319   \n155                    0.001818                    0.000103   \n156                    0.000818                    0.000032   \n157                         NaN                         NaN   \n158                         NaN                         NaN   \n\n     genre_dortmund_jazz  genre_dortmund_pop  genre_dortmund_raphiphop  ...  \\\n0               0.022812            0.004444                  0.045586  ...   \n1               0.011565            0.004639                  0.012073  ...   \n2               0.040201            0.004326                  0.043529  ...   \n3                    NaN                 NaN                       NaN  ...   \n4               0.016548            0.002478                  0.007831  ...   \n..                   ...                 ...                       ...  ...   \n154             0.026408            0.016542                  0.005730  ...   \n155             0.000396            0.000477                  0.000110  ...   \n156             0.000306            0.000076                  0.000038  ...   \n157                  NaN                 NaN                       NaN  ...   \n158                  NaN                 NaN                       NaN  ...   \n\n     mood_acoustic_acoustic  mood_aggressive_aggressive  \\\n0                  0.168722                    0.145159   \n1                  0.323377                    0.188391   \n2                  0.242417                    0.160094   \n3                       NaN                         NaN   \n4                  0.097365                    0.309988   \n..                      ...                         ...   \n154                0.542926                    0.017304   \n155                0.119497                    0.018436   \n156                0.012957                    0.489698   \n157                     NaN                         NaN   \n158                     NaN                         NaN   \n\n     mood_electronic_electronic  mood_happy  mood_party  mood_relaxed  \\\n0                      0.765468    0.289882    0.439518      0.544220   \n1                      0.603914    0.324836    0.424724      0.623896   \n2                      0.766100    0.231227    0.420188      0.574436   \n3                           NaN         NaN         NaN           NaN   \n4                      0.838636    0.290733    0.676710      0.430722   \n..                          ...         ...         ...           ...   \n154                    0.587858    0.279626    0.120256      0.833613   \n155                    0.596662    0.161163    0.554444      0.815655   \n156                    0.846298    0.626100    0.869026      0.436118   \n157                         NaN         NaN         NaN           NaN   \n158                         NaN         NaN         NaN           NaN   \n\n     mood_sad  timbre_bright  tonal_atonal_atonal  voice_instrumental_voice  \n0    0.315805       0.368309             0.280809                  0.519009  \n1    0.398414       0.369367             0.368813                  0.689851  \n2    0.335657       0.409198             0.277211                  0.546431  \n3         NaN            NaN                  NaN                       NaN  \n4    0.221542       0.539480             0.266332                  0.485006  \n..        ...            ...                  ...                       ...  \n154  0.512825       0.603499             0.962744                  0.498739  \n155  0.574401       0.373946             0.096894                  0.911424  \n156  0.215393       0.687663             0.065921                  0.855692  \n157       NaN            NaN                  NaN                       NaN  \n158       NaN            NaN                  NaN                       NaN  \n\n[159 rows x 54 columns]",
      "text/html": "<div>\n<style scoped>\n    .dataframe tbody tr th:only-of-type {\n        vertical-align: middle;\n    }\n\n    .dataframe tbody tr th {\n        vertical-align: top;\n    }\n\n    .dataframe thead th {\n        text-align: right;\n    }\n</style>\n<table border=\"1\" class=\"dataframe\">\n  <thead>\n    <tr style=\"text-align: right;\">\n      <th></th>\n      <th>sampling_community</th>\n      <th>danceability_danceable</th>\n      <th>genre_dortmund_alternative</th>\n      <th>genre_dortmund_blues</th>\n      <th>genre_dortmund_electronic</th>\n      <th>genre_dortmund_folkcountry</th>\n      <th>genre_dortmund_funksoulrnb</th>\n      <th>genre_dortmund_jazz</th>\n      <th>genre_dortmund_pop</th>\n      <th>genre_dortmund_raphiphop</th>\n      <th>...</th>\n      <th>mood_acoustic_acoustic</th>\n      <th>mood_aggressive_aggressive</th>\n      <th>mood_electronic_electronic</th>\n      <th>mood_happy</th>\n      <th>mood_party</th>\n      <th>mood_relaxed</th>\n      <th>mood_sad</th>\n      <th>timbre_bright</th>\n      <th>tonal_atonal_atonal</th>\n      <th>voice_instrumental_voice</th>\n    </tr>\n  </thead>\n  <tbody>\n    <tr>\n      <th>0</th>\n      <td>115</td>\n      <td>0.653694</td>\n      <td>0.019310</td>\n      <td>0.027513</td>\n      <td>0.836702</td>\n      <td>0.025528</td>\n      <td>0.003441</td>\n      <td>0.022812</td>\n      <td>0.004444</td>\n      <td>0.045586</td>\n      <td>...</td>\n      <td>0.168722</td>\n      <td>0.145159</td>\n      <td>0.765468</td>\n      <td>0.289882</td>\n      <td>0.439518</td>\n      <td>0.544220</td>\n      <td>0.315805</td>\n      <td>0.368309</td>\n      <td>0.280809</td>\n      <td>0.519009</td>\n    </tr>\n    <tr>\n      <th>1</th>\n      <td>139</td>\n      <td>0.720428</td>\n      <td>0.022757</td>\n      <td>0.019207</td>\n      <td>0.839445</td>\n      <td>0.064314</td>\n      <td>0.002576</td>\n      <td>0.011565</td>\n      <td>0.004639</td>\n      <td>0.012073</td>\n      <td>...</td>\n      <td>0.323377</td>\n      <td>0.188391</td>\n      <td>0.603914</td>\n      <td>0.324836</td>\n      <td>0.424724</td>\n      <td>0.623896</td>\n      <td>0.398414</td>\n      <td>0.369367</td>\n      <td>0.368813</td>\n      <td>0.689851</td>\n    </tr>\n    <tr>\n      <th>2</th>\n      <td>72</td>\n      <td>0.685935</td>\n      <td>0.017469</td>\n      <td>0.026961</td>\n      <td>0.824337</td>\n      <td>0.023274</td>\n      <td>0.003995</td>\n      <td>0.040201</td>\n      <td>0.004326</td>\n      <td>0.043529</td>\n      <td>...</td>\n      <td>0.242417</td>\n      <td>0.160094</td>\n      <td>0.766100</td>\n      <td>0.231227</td>\n      <td>0.420188</td>\n      <td>0.574436</td>\n      <td>0.335657</td>\n      <td>0.409198</td>\n      <td>0.277211</td>\n      <td>0.546431</td>\n    </tr>\n    <tr>\n      <th>3</th>\n      <td>59</td>\n      <td>NaN</td>\n      <td>NaN</td>\n      <td>NaN</td>\n      <td>NaN</td>\n      <td>NaN</td>\n      <td>NaN</td>\n      <td>NaN</td>\n      <td>NaN</td>\n      <td>NaN</td>\n      <td>...</td>\n      <td>NaN</td>\n      <td>NaN</td>\n      <td>NaN</td>\n      <td>NaN</td>\n      <td>NaN</td>\n      <td>NaN</td>\n      <td>NaN</td>\n      <td>NaN</td>\n      <td>NaN</td>\n      <td>NaN</td>\n    </tr>\n    <tr>\n      <th>4</th>\n      <td>46</td>\n      <td>0.839255</td>\n      <td>0.011483</td>\n      <td>0.015677</td>\n      <td>0.917328</td>\n      <td>0.016169</td>\n      <td>0.002342</td>\n      <td>0.016548</td>\n      <td>0.002478</td>\n      <td>0.007831</td>\n      <td>...</td>\n      <td>0.097365</td>\n      <td>0.309988</td>\n      <td>0.838636</td>\n      <td>0.290733</td>\n      <td>0.676710</td>\n      <td>0.430722</td>\n      <td>0.221542</td>\n      <td>0.539480</td>\n      <td>0.266332</td>\n      <td>0.485006</td>\n    </tr>\n    <tr>\n      <th>...</th>\n      <td>...</td>\n      <td>...</td>\n      <td>...</td>\n      <td>...</td>\n      <td>...</td>\n      <td>...</td>\n      <td>...</td>\n      <td>...</td>\n      <td>...</td>\n      <td>...</td>\n      <td>...</td>\n      <td>...</td>\n      <td>...</td>\n      <td>...</td>\n      <td>...</td>\n      <td>...</td>\n      <td>...</td>\n      <td>...</td>\n      <td>...</td>\n      <td>...</td>\n      <td>...</td>\n    </tr>\n    <tr>\n      <th>154</th>\n      <td>123</td>\n      <td>0.622672</td>\n      <td>0.056932</td>\n      <td>0.066231</td>\n      <td>0.605073</td>\n      <td>0.165901</td>\n      <td>0.008319</td>\n      <td>0.026408</td>\n      <td>0.016542</td>\n      <td>0.005730</td>\n      <td>...</td>\n      <td>0.542926</td>\n      <td>0.017304</td>\n      <td>0.587858</td>\n      <td>0.279626</td>\n      <td>0.120256</td>\n      <td>0.833613</td>\n      <td>0.512825</td>\n      <td>0.603499</td>\n      <td>0.962744</td>\n      <td>0.498739</td>\n    </tr>\n    <tr>\n      <th>155</th>\n      <td>63</td>\n      <td>0.998816</td>\n      <td>0.007260</td>\n      <td>0.000861</td>\n      <td>0.988166</td>\n      <td>0.001818</td>\n      <td>0.000103</td>\n      <td>0.000396</td>\n      <td>0.000477</td>\n      <td>0.000110</td>\n      <td>...</td>\n      <td>0.119497</td>\n      <td>0.018436</td>\n      <td>0.596662</td>\n      <td>0.161163</td>\n      <td>0.554444</td>\n      <td>0.815655</td>\n      <td>0.574401</td>\n      <td>0.373946</td>\n      <td>0.096894</td>\n      <td>0.911424</td>\n    </tr>\n    <tr>\n      <th>156</th>\n      <td>144</td>\n      <td>0.973150</td>\n      <td>0.004699</td>\n      <td>0.000458</td>\n      <td>0.993046</td>\n      <td>0.000818</td>\n      <td>0.000032</td>\n      <td>0.000306</td>\n      <td>0.000076</td>\n      <td>0.000038</td>\n      <td>...</td>\n      <td>0.012957</td>\n      <td>0.489698</td>\n      <td>0.846298</td>\n      <td>0.626100</td>\n      <td>0.869026</td>\n      <td>0.436118</td>\n      <td>0.215393</td>\n      <td>0.687663</td>\n      <td>0.065921</td>\n      <td>0.855692</td>\n    </tr>\n    <tr>\n      <th>157</th>\n      <td>145</td>\n      <td>NaN</td>\n      <td>NaN</td>\n      <td>NaN</td>\n      <td>NaN</td>\n      <td>NaN</td>\n      <td>NaN</td>\n      <td>NaN</td>\n      <td>NaN</td>\n      <td>NaN</td>\n      <td>...</td>\n      <td>NaN</td>\n      <td>NaN</td>\n      <td>NaN</td>\n      <td>NaN</td>\n      <td>NaN</td>\n      <td>NaN</td>\n      <td>NaN</td>\n      <td>NaN</td>\n      <td>NaN</td>\n      <td>NaN</td>\n    </tr>\n    <tr>\n      <th>158</th>\n      <td>29</td>\n      <td>NaN</td>\n      <td>NaN</td>\n      <td>NaN</td>\n      <td>NaN</td>\n      <td>NaN</td>\n      <td>NaN</td>\n      <td>NaN</td>\n      <td>NaN</td>\n      <td>NaN</td>\n      <td>...</td>\n      <td>NaN</td>\n      <td>NaN</td>\n      <td>NaN</td>\n      <td>NaN</td>\n      <td>NaN</td>\n      <td>NaN</td>\n      <td>NaN</td>\n      <td>NaN</td>\n      <td>NaN</td>\n      <td>NaN</td>\n    </tr>\n  </tbody>\n</table>\n<p>159 rows × 54 columns</p>\n</div>"
     },
     "execution_count": 15,
     "metadata": {},
     "output_type": "execute_result"
    }
   ],
   "source": [
    "query = \"\"\"\n",
    "MATCH (s:Song)\n",
    "RETURN \n",
    "  s.sampling_community AS sampling_community,\n",
    "  avg(s.danceability_danceable) AS danceability_danceable,\n",
    "  avg(s.genre_dortmund_alternative) AS genre_dortmund_alternative,\n",
    "  avg(s.genre_dortmund_blues) AS genre_dortmund_blues,\n",
    "  avg(s.genre_dortmund_electronic) AS genre_dortmund_electronic,\n",
    "  avg(s.genre_dortmund_folkcountry) AS genre_dortmund_folkcountry,\n",
    "  avg(s.genre_dortmund_funksoulrnb) AS genre_dortmund_funksoulrnb,\n",
    "  avg(s.genre_dortmund_jazz) AS genre_dortmund_jazz,\n",
    "  avg(s.genre_dortmund_pop) AS genre_dortmund_pop,\n",
    "  avg(s.genre_dortmund_raphiphop) AS genre_dortmund_raphiphop,\n",
    "  avg(s.genre_dortmund_rock) AS genre_dortmund_rock,\n",
    "  avg(s.genre_electronic_ambient) AS genre_electronic_ambient,\n",
    "  avg(s.genre_electronic_dnb) AS genre_electronic_dnb,\n",
    "  avg(s.genre_electronic_house) AS genre_electronic_house,\n",
    "  avg(s.genre_electronic_techno) AS genre_electronic_techno,\n",
    "  avg(s.genre_electronic_trance) AS genre_electronic_trance,\n",
    "  avg(s.genre_rosamerica_cla) AS genre_rosamerica_cla,\n",
    "  avg(s.genre_rosamerica_dan) AS genre_rosamerica_dan,\n",
    "  avg(s.genre_rosamerica_hip) AS genre_rosamerica_hip,\n",
    "  avg(s.genre_rosamerica_jaz) AS genre_rosamerica_jaz,\n",
    "  avg(s.genre_rosamerica_pop) AS genre_rosamerica_pop,\n",
    "  avg(s.genre_rosamerica_rhy) AS genre_rosamerica_rhy,\n",
    "  avg(s.genre_rosamerica_roc) AS genre_rosamerica_roc,\n",
    "  avg(s.genre_rosamerica_spe) AS genre_rosamerica_spe,\n",
    "  avg(s.genre_tzanetakis_blu) AS genre_tzanetakis_blu,\n",
    "  avg(s.genre_tzanetakis_cla) AS genre_tzanetakis_cla,\n",
    "  avg(s.genre_tzanetakis_cou) AS genre_tzanetakis_cou,\n",
    "  avg(s.genre_tzanetakis_dis) AS genre_tzanetakis_dis,\n",
    "  avg(s.genre_tzanetakis_hip) AS genre_tzanetakis_hip,\n",
    "  avg(s.genre_tzanetakis_jaz) AS genre_tzanetakis_jaz,\n",
    "  avg(s.genre_tzanetakis_met) AS genre_tzanetakis_met,\n",
    "  avg(s.genre_tzanetakis_pop) AS genre_tzanetakis_pop,\n",
    "  avg(s.genre_tzanetakis_reg) AS genre_tzanetakis_reg,\n",
    "  avg(s.genre_tzanetakis_roc) AS genre_tzanetakis_roc,\n",
    "  avg(s.ismir04_rhythm_ChaChaCha) AS ismir04_rhythm_ChaChaCha,\n",
    "  avg(s.ismir04_rhythm_Jive) AS ismir04_rhythm_Jive,\n",
    "  avg(s.ismir04_rhythm_Quickstep) AS ismir04_rhythm_Quickstep,\n",
    "  avg(s.ismir04_rhythm_Rumba_American) AS ismir04_rhythm_Rumba_American,\n",
    "  avg(s.ismir04_rhythm_Rumba_International) AS ismir04_rhythm_Rumba_International,\n",
    "  avg(s.ismir04_rhythm_Rumba_Misc) AS ismir04_rhythm_Rumba_Misc,\n",
    "  avg(s.ismir04_rhythm_Samba) AS ismir04_rhythm_Samba,\n",
    "  avg(s.ismir04_rhythm_Tango) AS ismir04_rhythm_Tango,\n",
    "  avg(s.ismir04_rhythm_VienneseWaltz) AS ismir04_rhythm_VienneseWaltz,\n",
    "  avg(s.ismir04_rhythm_Waltz) AS ismir04_rhythm_Waltz,\n",
    "  avg(s.mood_acoustic_acoustic) AS mood_acoustic_acoustic,\n",
    "  avg(s.mood_aggressive_aggressive) AS mood_aggressive_aggressive,\n",
    "  avg(s.mood_electronic_electronic) AS mood_electronic_electronic,\n",
    "  avg(s.mood_happy_happy) AS mood_happy,\n",
    "  avg(s.mood_party) AS mood_party,\n",
    "  avg(s.mood_relaxed) AS mood_relaxed,\n",
    "  avg(s.mood_sad) AS mood_sad,\n",
    "  avg(s.timbre_bright) AS timbre_bright,\n",
    "  avg(s.tonal_atonal_atonal) AS tonal_atonal_atonal,\n",
    "  avg(s.voice_instrumental_voice) AS voice_instrumental_voice\n",
    "\"\"\"\n",
    "\n",
    "community_features = run_query(query)\n",
    "community_features"
   ],
   "metadata": {
    "collapsed": false,
    "ExecuteTime": {
     "end_time": "2025-04-25T23:43:18.128344Z",
     "start_time": "2025-04-25T23:43:17.622686Z"
    }
   },
   "id": "5b461f0de5cdc8ec",
   "execution_count": 15
  },
  {
   "cell_type": "code",
   "outputs": [
    {
     "data": {
      "text/plain": "     community  size\n0           84   340\n1          105   280\n2          114   243\n3          146   239\n4          101   231\n..         ...   ...\n154         16     2\n155        111     2\n156        123     2\n157         91     1\n158          7     1\n\n[159 rows x 2 columns]",
      "text/html": "<div>\n<style scoped>\n    .dataframe tbody tr th:only-of-type {\n        vertical-align: middle;\n    }\n\n    .dataframe tbody tr th {\n        vertical-align: top;\n    }\n\n    .dataframe thead th {\n        text-align: right;\n    }\n</style>\n<table border=\"1\" class=\"dataframe\">\n  <thead>\n    <tr style=\"text-align: right;\">\n      <th></th>\n      <th>community</th>\n      <th>size</th>\n    </tr>\n  </thead>\n  <tbody>\n    <tr>\n      <th>0</th>\n      <td>84</td>\n      <td>340</td>\n    </tr>\n    <tr>\n      <th>1</th>\n      <td>105</td>\n      <td>280</td>\n    </tr>\n    <tr>\n      <th>2</th>\n      <td>114</td>\n      <td>243</td>\n    </tr>\n    <tr>\n      <th>3</th>\n      <td>146</td>\n      <td>239</td>\n    </tr>\n    <tr>\n      <th>4</th>\n      <td>101</td>\n      <td>231</td>\n    </tr>\n    <tr>\n      <th>...</th>\n      <td>...</td>\n      <td>...</td>\n    </tr>\n    <tr>\n      <th>154</th>\n      <td>16</td>\n      <td>2</td>\n    </tr>\n    <tr>\n      <th>155</th>\n      <td>111</td>\n      <td>2</td>\n    </tr>\n    <tr>\n      <th>156</th>\n      <td>123</td>\n      <td>2</td>\n    </tr>\n    <tr>\n      <th>157</th>\n      <td>91</td>\n      <td>1</td>\n    </tr>\n    <tr>\n      <th>158</th>\n      <td>7</td>\n      <td>1</td>\n    </tr>\n  </tbody>\n</table>\n<p>159 rows × 2 columns</p>\n</div>"
     },
     "execution_count": 6,
     "metadata": {},
     "output_type": "execute_result"
    }
   ],
   "source": [
    "query = \"\"\"\n",
    "    MATCH (s:Song)\n",
    "    RETURN s.sampling_community AS community, count(*) AS size\n",
    "    ORDER BY size DESC\n",
    "    \"\"\"\n",
    "\n",
    "community_list = run_query(query)\n",
    "community_list"
   ],
   "metadata": {
    "collapsed": false,
    "ExecuteTime": {
     "end_time": "2025-04-25T23:21:54.179837Z",
     "start_time": "2025-04-25T23:21:54.073539Z"
    }
   },
   "id": "85a1c4943b7b7788",
   "execution_count": 6
  },
  {
   "cell_type": "code",
   "outputs": [
    {
     "data": {
      "text/plain": "     community  size  sampling_community  danceability_danceable  \\\n0           84   340                  84                0.801745   \n1          105   280                 105                0.769220   \n2          114   243                 114                0.807297   \n3          146   239                 146                0.741634   \n4          101   231                 101                0.638726   \n..         ...   ...                 ...                     ...   \n154         16     2                  16                     NaN   \n155        111     2                 111                     NaN   \n156        123     2                 123                0.622672   \n157         91     1                  91                     NaN   \n158          7     1                   7                     NaN   \n\n     genre_dortmund_alternative  genre_dortmund_blues  \\\n0                      0.028569              0.014730   \n1                      0.014564              0.025619   \n2                      0.018090              0.019175   \n3                      0.024000              0.030099   \n4                      0.030195              0.032164   \n..                          ...                   ...   \n154                         NaN                   NaN   \n155                         NaN                   NaN   \n156                    0.056932              0.066231   \n157                         NaN                   NaN   \n158                         NaN                   NaN   \n\n     genre_dortmund_electronic  genre_dortmund_folkcountry  \\\n0                     0.887896                    0.018321   \n1                     0.897409                    0.012114   \n2                     0.894768                    0.013928   \n3                     0.861238                    0.020276   \n4                     0.828850                    0.029660   \n..                         ...                         ...   \n154                        NaN                         NaN   \n155                        NaN                         NaN   \n156                   0.605073                    0.165901   \n157                        NaN                         NaN   \n158                        NaN                         NaN   \n\n     genre_dortmund_funksoulrnb  genre_dortmund_jazz  ...  \\\n0                      0.002988             0.010007  ...   \n1                      0.002283             0.016348  ...   \n2                      0.002595             0.020524  ...   \n3                      0.004178             0.016301  ...   \n4                      0.004093             0.026326  ...   \n..                          ...                  ...  ...   \n154                         NaN                  NaN  ...   \n155                         NaN                  NaN  ...   \n156                    0.008319             0.026408  ...   \n157                         NaN                  NaN  ...   \n158                         NaN                  NaN  ...   \n\n     mood_acoustic_acoustic  mood_aggressive_aggressive  \\\n0                  0.140278                    0.189904   \n1                  0.138704                    0.300995   \n2                  0.187390                    0.236226   \n3                  0.154922                    0.294612   \n4                  0.266718                    0.170085   \n..                      ...                         ...   \n154                     NaN                         NaN   \n155                     NaN                         NaN   \n156                0.542926                    0.017304   \n157                     NaN                         NaN   \n158                     NaN                         NaN   \n\n     mood_electronic_electronic  mood_happy  mood_party  mood_relaxed  \\\n0                      0.775638    0.312586    0.518569      0.570692   \n1                      0.789378    0.308110    0.579694      0.451862   \n2                      0.790992    0.305313    0.583782      0.505667   \n3                      0.785960    0.289338    0.579725      0.475368   \n4                      0.759361    0.254937    0.384962      0.619455   \n..                          ...         ...         ...           ...   \n154                         NaN         NaN         NaN           NaN   \n155                         NaN         NaN         NaN           NaN   \n156                    0.587858    0.279626    0.120256      0.833613   \n157                         NaN         NaN         NaN           NaN   \n158                         NaN         NaN         NaN           NaN   \n\n     mood_sad  timbre_bright  tonal_atonal_atonal  voice_instrumental_voice  \n0    0.283295       0.437342             0.254680                  0.625457  \n1    0.251377       0.427915             0.269805                  0.535800  \n2    0.284474       0.515318             0.335058                  0.572200  \n3    0.249166       0.466112             0.252064                  0.536918  \n4    0.384829       0.486619             0.282815                  0.524445  \n..        ...            ...                  ...                       ...  \n154       NaN            NaN                  NaN                       NaN  \n155       NaN            NaN                  NaN                       NaN  \n156  0.512825       0.603499             0.962744                  0.498739  \n157       NaN            NaN                  NaN                       NaN  \n158       NaN            NaN                  NaN                       NaN  \n\n[159 rows x 56 columns]",
      "text/html": "<div>\n<style scoped>\n    .dataframe tbody tr th:only-of-type {\n        vertical-align: middle;\n    }\n\n    .dataframe tbody tr th {\n        vertical-align: top;\n    }\n\n    .dataframe thead th {\n        text-align: right;\n    }\n</style>\n<table border=\"1\" class=\"dataframe\">\n  <thead>\n    <tr style=\"text-align: right;\">\n      <th></th>\n      <th>community</th>\n      <th>size</th>\n      <th>sampling_community</th>\n      <th>danceability_danceable</th>\n      <th>genre_dortmund_alternative</th>\n      <th>genre_dortmund_blues</th>\n      <th>genre_dortmund_electronic</th>\n      <th>genre_dortmund_folkcountry</th>\n      <th>genre_dortmund_funksoulrnb</th>\n      <th>genre_dortmund_jazz</th>\n      <th>...</th>\n      <th>mood_acoustic_acoustic</th>\n      <th>mood_aggressive_aggressive</th>\n      <th>mood_electronic_electronic</th>\n      <th>mood_happy</th>\n      <th>mood_party</th>\n      <th>mood_relaxed</th>\n      <th>mood_sad</th>\n      <th>timbre_bright</th>\n      <th>tonal_atonal_atonal</th>\n      <th>voice_instrumental_voice</th>\n    </tr>\n  </thead>\n  <tbody>\n    <tr>\n      <th>0</th>\n      <td>84</td>\n      <td>340</td>\n      <td>84</td>\n      <td>0.801745</td>\n      <td>0.028569</td>\n      <td>0.014730</td>\n      <td>0.887896</td>\n      <td>0.018321</td>\n      <td>0.002988</td>\n      <td>0.010007</td>\n      <td>...</td>\n      <td>0.140278</td>\n      <td>0.189904</td>\n      <td>0.775638</td>\n      <td>0.312586</td>\n      <td>0.518569</td>\n      <td>0.570692</td>\n      <td>0.283295</td>\n      <td>0.437342</td>\n      <td>0.254680</td>\n      <td>0.625457</td>\n    </tr>\n    <tr>\n      <th>1</th>\n      <td>105</td>\n      <td>280</td>\n      <td>105</td>\n      <td>0.769220</td>\n      <td>0.014564</td>\n      <td>0.025619</td>\n      <td>0.897409</td>\n      <td>0.012114</td>\n      <td>0.002283</td>\n      <td>0.016348</td>\n      <td>...</td>\n      <td>0.138704</td>\n      <td>0.300995</td>\n      <td>0.789378</td>\n      <td>0.308110</td>\n      <td>0.579694</td>\n      <td>0.451862</td>\n      <td>0.251377</td>\n      <td>0.427915</td>\n      <td>0.269805</td>\n      <td>0.535800</td>\n    </tr>\n    <tr>\n      <th>2</th>\n      <td>114</td>\n      <td>243</td>\n      <td>114</td>\n      <td>0.807297</td>\n      <td>0.018090</td>\n      <td>0.019175</td>\n      <td>0.894768</td>\n      <td>0.013928</td>\n      <td>0.002595</td>\n      <td>0.020524</td>\n      <td>...</td>\n      <td>0.187390</td>\n      <td>0.236226</td>\n      <td>0.790992</td>\n      <td>0.305313</td>\n      <td>0.583782</td>\n      <td>0.505667</td>\n      <td>0.284474</td>\n      <td>0.515318</td>\n      <td>0.335058</td>\n      <td>0.572200</td>\n    </tr>\n    <tr>\n      <th>3</th>\n      <td>146</td>\n      <td>239</td>\n      <td>146</td>\n      <td>0.741634</td>\n      <td>0.024000</td>\n      <td>0.030099</td>\n      <td>0.861238</td>\n      <td>0.020276</td>\n      <td>0.004178</td>\n      <td>0.016301</td>\n      <td>...</td>\n      <td>0.154922</td>\n      <td>0.294612</td>\n      <td>0.785960</td>\n      <td>0.289338</td>\n      <td>0.579725</td>\n      <td>0.475368</td>\n      <td>0.249166</td>\n      <td>0.466112</td>\n      <td>0.252064</td>\n      <td>0.536918</td>\n    </tr>\n    <tr>\n      <th>4</th>\n      <td>101</td>\n      <td>231</td>\n      <td>101</td>\n      <td>0.638726</td>\n      <td>0.030195</td>\n      <td>0.032164</td>\n      <td>0.828850</td>\n      <td>0.029660</td>\n      <td>0.004093</td>\n      <td>0.026326</td>\n      <td>...</td>\n      <td>0.266718</td>\n      <td>0.170085</td>\n      <td>0.759361</td>\n      <td>0.254937</td>\n      <td>0.384962</td>\n      <td>0.619455</td>\n      <td>0.384829</td>\n      <td>0.486619</td>\n      <td>0.282815</td>\n      <td>0.524445</td>\n    </tr>\n    <tr>\n      <th>...</th>\n      <td>...</td>\n      <td>...</td>\n      <td>...</td>\n      <td>...</td>\n      <td>...</td>\n      <td>...</td>\n      <td>...</td>\n      <td>...</td>\n      <td>...</td>\n      <td>...</td>\n      <td>...</td>\n      <td>...</td>\n      <td>...</td>\n      <td>...</td>\n      <td>...</td>\n      <td>...</td>\n      <td>...</td>\n      <td>...</td>\n      <td>...</td>\n      <td>...</td>\n      <td>...</td>\n    </tr>\n    <tr>\n      <th>154</th>\n      <td>16</td>\n      <td>2</td>\n      <td>16</td>\n      <td>NaN</td>\n      <td>NaN</td>\n      <td>NaN</td>\n      <td>NaN</td>\n      <td>NaN</td>\n      <td>NaN</td>\n      <td>NaN</td>\n      <td>...</td>\n      <td>NaN</td>\n      <td>NaN</td>\n      <td>NaN</td>\n      <td>NaN</td>\n      <td>NaN</td>\n      <td>NaN</td>\n      <td>NaN</td>\n      <td>NaN</td>\n      <td>NaN</td>\n      <td>NaN</td>\n    </tr>\n    <tr>\n      <th>155</th>\n      <td>111</td>\n      <td>2</td>\n      <td>111</td>\n      <td>NaN</td>\n      <td>NaN</td>\n      <td>NaN</td>\n      <td>NaN</td>\n      <td>NaN</td>\n      <td>NaN</td>\n      <td>NaN</td>\n      <td>...</td>\n      <td>NaN</td>\n      <td>NaN</td>\n      <td>NaN</td>\n      <td>NaN</td>\n      <td>NaN</td>\n      <td>NaN</td>\n      <td>NaN</td>\n      <td>NaN</td>\n      <td>NaN</td>\n      <td>NaN</td>\n    </tr>\n    <tr>\n      <th>156</th>\n      <td>123</td>\n      <td>2</td>\n      <td>123</td>\n      <td>0.622672</td>\n      <td>0.056932</td>\n      <td>0.066231</td>\n      <td>0.605073</td>\n      <td>0.165901</td>\n      <td>0.008319</td>\n      <td>0.026408</td>\n      <td>...</td>\n      <td>0.542926</td>\n      <td>0.017304</td>\n      <td>0.587858</td>\n      <td>0.279626</td>\n      <td>0.120256</td>\n      <td>0.833613</td>\n      <td>0.512825</td>\n      <td>0.603499</td>\n      <td>0.962744</td>\n      <td>0.498739</td>\n    </tr>\n    <tr>\n      <th>157</th>\n      <td>91</td>\n      <td>1</td>\n      <td>91</td>\n      <td>NaN</td>\n      <td>NaN</td>\n      <td>NaN</td>\n      <td>NaN</td>\n      <td>NaN</td>\n      <td>NaN</td>\n      <td>NaN</td>\n      <td>...</td>\n      <td>NaN</td>\n      <td>NaN</td>\n      <td>NaN</td>\n      <td>NaN</td>\n      <td>NaN</td>\n      <td>NaN</td>\n      <td>NaN</td>\n      <td>NaN</td>\n      <td>NaN</td>\n      <td>NaN</td>\n    </tr>\n    <tr>\n      <th>158</th>\n      <td>7</td>\n      <td>1</td>\n      <td>7</td>\n      <td>NaN</td>\n      <td>NaN</td>\n      <td>NaN</td>\n      <td>NaN</td>\n      <td>NaN</td>\n      <td>NaN</td>\n      <td>NaN</td>\n      <td>...</td>\n      <td>NaN</td>\n      <td>NaN</td>\n      <td>NaN</td>\n      <td>NaN</td>\n      <td>NaN</td>\n      <td>NaN</td>\n      <td>NaN</td>\n      <td>NaN</td>\n      <td>NaN</td>\n      <td>NaN</td>\n    </tr>\n  </tbody>\n</table>\n<p>159 rows × 56 columns</p>\n</div>"
     },
     "execution_count": 16,
     "metadata": {},
     "output_type": "execute_result"
    }
   ],
   "source": [
    "community_merged = community_list.merge(community_features, left_on='community', right_on='sampling_community', how='left')\n",
    "community_merged"
   ],
   "metadata": {
    "collapsed": false,
    "ExecuteTime": {
     "end_time": "2025-04-25T23:43:39.000349Z",
     "start_time": "2025-04-25T23:43:38.985426Z"
    }
   },
   "id": "1b5347274a78eb87",
   "execution_count": 16
  },
  {
   "cell_type": "code",
   "outputs": [
    {
     "name": "stdout",
     "output_type": "stream",
     "text": [
      "community: 114.0\n",
      "size: 243.0\n",
      "sampling_community: 114.0\n",
      "danceability_danceable: 0.8072970843344938\n",
      "genre_dortmund_alternative: 0.018090282645379367\n",
      "genre_dortmund_blues: 0.019174677740735672\n",
      "genre_dortmund_electronic: 0.8947683998899905\n",
      "genre_dortmund_folkcountry: 0.01392785759535819\n",
      "genre_dortmund_funksoulrnb: 0.0025951757780074817\n",
      "genre_dortmund_jazz: 0.020523680805529316\n",
      "genre_dortmund_pop: 0.002834042433127244\n",
      "genre_dortmund_raphiphop: 0.01356444132325048\n",
      "genre_dortmund_rock: 0.014521445568996035\n",
      "genre_electronic_ambient: 0.32828196757572903\n",
      "genre_electronic_dnb: 0.04480582603466964\n",
      "genre_electronic_house: 0.3398155131035512\n",
      "genre_electronic_techno: 0.04582852738147875\n",
      "genre_electronic_trance: 0.24126816676972443\n",
      "genre_rosamerica_cla: 0.023106088916965983\n",
      "genre_rosamerica_dan: 0.0860389561820335\n",
      "genre_rosamerica_hip: 0.519722288568863\n",
      "genre_rosamerica_jaz: 0.04985024021619113\n",
      "genre_rosamerica_pop: 0.07584471180321245\n",
      "genre_rosamerica_rhy: 0.1857305011595289\n",
      "genre_rosamerica_roc: 0.04644650653293588\n",
      "genre_rosamerica_spe: 0.013260706867529773\n",
      "genre_tzanetakis_blu: 0.057439033655623556\n",
      "genre_tzanetakis_cla: 0.03325465034439885\n",
      "genre_tzanetakis_cou: 0.08979425225551528\n",
      "genre_tzanetakis_dis: 0.06933973476515735\n",
      "genre_tzanetakis_hip: 0.15188496409779825\n",
      "genre_tzanetakis_jaz: 0.3299579406223914\n",
      "genre_tzanetakis_met: 0.04496527364972625\n",
      "genre_tzanetakis_pop: 0.06510206484538297\n",
      "genre_tzanetakis_reg: 0.06435749286472679\n",
      "genre_tzanetakis_roc: 0.09390458283551063\n",
      "ismir04_rhythm_ChaChaCha: 0.622945080310243\n",
      "ismir04_rhythm_Jive: 0.05256175010944052\n",
      "ismir04_rhythm_Quickstep: 0.013838510422063837\n",
      "ismir04_rhythm_Rumba_American: 0.03261945103780905\n",
      "ismir04_rhythm_Rumba_International: 0.022705942799852122\n",
      "ismir04_rhythm_Rumba_Misc: 0.012648769512293911\n",
      "ismir04_rhythm_Samba: 0.04710945233619373\n",
      "ismir04_rhythm_Tango: 0.09902759687340275\n",
      "ismir04_rhythm_VienneseWaltz: 0.08818695864057823\n",
      "ismir04_rhythm_Waltz: 0.008356486391052227\n",
      "mood_acoustic_acoustic: 0.1873902779565668\n",
      "mood_aggressive_aggressive: 0.2362264614935359\n",
      "mood_electronic_electronic: 0.7909919965288484\n",
      "mood_happy: 0.3053128591414147\n",
      "mood_party: 0.5837818767357756\n",
      "mood_relaxed: 0.5056670074679336\n",
      "mood_sad: 0.2844737693935533\n",
      "timbre_bright: 0.5153178376859013\n",
      "tonal_atonal_atonal: 0.3350575607721758\n",
      "voice_instrumental_voice: 0.5721998237944718\n"
     ]
    }
   ],
   "source": [
    "row = community_merged.iloc[2]  # or any specific row you select\n",
    "for col, val in row.items():\n",
    "    print(f\"{col}: {val}\")"
   ],
   "metadata": {
    "collapsed": false,
    "ExecuteTime": {
     "end_time": "2025-04-25T23:48:52.051186Z",
     "start_time": "2025-04-25T23:48:52.042863Z"
    }
   },
   "id": "aa6755a1578fea9",
   "execution_count": 21
  },
  {
   "cell_type": "code",
   "outputs": [],
   "source": [],
   "metadata": {
    "collapsed": false
   },
   "id": "978b919dbcc3ac93"
  }
 ],
 "metadata": {
  "kernelspec": {
   "display_name": "Python 3",
   "language": "python",
   "name": "python3"
  },
  "language_info": {
   "codemirror_mode": {
    "name": "ipython",
    "version": 2
   },
   "file_extension": ".py",
   "mimetype": "text/x-python",
   "name": "python",
   "nbconvert_exporter": "python",
   "pygments_lexer": "ipython2",
   "version": "2.7.6"
  }
 },
 "nbformat": 4,
 "nbformat_minor": 5
}
