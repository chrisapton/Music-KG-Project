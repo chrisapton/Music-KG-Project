{
 "cells": [
  {
   "cell_type": "code",
   "execution_count": 1,
   "id": "initial_id",
   "metadata": {
    "collapsed": true,
    "ExecuteTime": {
     "end_time": "2025-04-13T21:36:39.597478Z",
     "start_time": "2025-04-13T21:36:32.988599Z"
    }
   },
   "outputs": [],
   "source": [
    "from neo4j import GraphDatabase\n",
    "import pandas as pd"
   ]
  },
  {
   "cell_type": "code",
   "outputs": [],
   "source": [
    "# Neo4j connection info\n",
    "NEO4J_URI = \"bolt://localhost:7687\"\n",
    "NEO4J_USER = \"neo4j\"\n",
    "NEO4J_PASSWORD = \"testpassword\"\n",
    "\n",
    "# Connect\n",
    "driver = GraphDatabase.driver(NEO4J_URI, auth=(NEO4J_USER, NEO4J_PASSWORD))"
   ],
   "metadata": {
    "collapsed": false,
    "ExecuteTime": {
     "end_time": "2025-04-13T21:37:01.077368Z",
     "start_time": "2025-04-13T21:37:01.070128Z"
    }
   },
   "id": "5e16a2171b567422",
   "execution_count": 2
  },
  {
   "cell_type": "code",
   "outputs": [],
   "source": [
    "def run_query(query, params=None):\n",
    "    with driver.session() as session:\n",
    "        result = session.run(query, parameters=params or {})\n",
    "        return pd.DataFrame([r.data() for r in result])"
   ],
   "metadata": {
    "collapsed": false,
    "ExecuteTime": {
     "end_time": "2025-04-13T21:37:07.599907Z",
     "start_time": "2025-04-13T21:37:07.594707Z"
    }
   },
   "id": "b9ece67408ea3e5d",
   "execution_count": 3
  },
  {
   "cell_type": "markdown",
   "source": [
    "## Total number of songs"
   ],
   "metadata": {
    "collapsed": false
   },
   "id": "ea79a0e0d9c1c961"
  },
  {
   "cell_type": "code",
   "outputs": [
    {
     "data": {
      "text/plain": "   total_songs\n0        11530",
      "text/html": "<div>\n<style scoped>\n    .dataframe tbody tr th:only-of-type {\n        vertical-align: middle;\n    }\n\n    .dataframe tbody tr th {\n        vertical-align: top;\n    }\n\n    .dataframe thead th {\n        text-align: right;\n    }\n</style>\n<table border=\"1\" class=\"dataframe\">\n  <thead>\n    <tr style=\"text-align: right;\">\n      <th></th>\n      <th>total_songs</th>\n    </tr>\n  </thead>\n  <tbody>\n    <tr>\n      <th>0</th>\n      <td>11530</td>\n    </tr>\n  </tbody>\n</table>\n</div>"
     },
     "execution_count": 4,
     "metadata": {},
     "output_type": "execute_result"
    }
   ],
   "source": [
    "query = \"MATCH (s:Song) RETURN COUNT(s) AS total_songs\"\n",
    "run_query(query)"
   ],
   "metadata": {
    "collapsed": false,
    "ExecuteTime": {
     "end_time": "2025-04-13T21:37:13.585913Z",
     "start_time": "2025-04-13T21:37:13.454297Z"
    }
   },
   "id": "bd2abf5589d916d8",
   "execution_count": 4
  },
  {
   "cell_type": "markdown",
   "source": [
    "## Top sampled songs"
   ],
   "metadata": {
    "collapsed": false
   },
   "id": "d6fbb7bc3e2c2db5"
  },
  {
   "cell_type": "code",
   "outputs": [
    {
     "data": {
      "text/plain": "                                     song_id  \\\n0               Lyn-Collins/Think-(About-It)   \n1    Beside/Change-the-Beat-(Female-Version)   \n2                 The-Winstons/Amen,-Brother   \n3                  Doug-E.-Fresh/La-Di-Da-Di   \n4                  James-Brown/Funky-Drummer   \n5  Run-DMC/Here-We-Go-(Live-at-the-Funhouse)   \n6   The-Honey-Drippers/Impeach-the-President   \n7                       Lil-Jon/Who-U-Wit%3F   \n8                          Mountain/Long-Red   \n9                              YG/I%27m-Good   \n\n                          song_title                   artist_names  \\\n0                   Think (About It)                  [Lyn Collins]   \n1   Change the Beat (Female Version)                       [Beside]   \n2                      Amen, Brother                 [The Winstons]   \n3                        La Di Da Di    [Slick Rick, Doug E. Fresh]   \n4                      Funky Drummer                             []   \n5  Here We Go (Live at the Funhouse)                             []   \n6              Impeach the President                             []   \n7                         Who U Wit?  [The East Side Boyz, Lil Jon]   \n8                           Long Red                     [Mountain]   \n9                           I'm Good                           [YG]   \n\n   times_sampled  \n0             38  \n1             31  \n2             27  \n3             24  \n4             24  \n5             23  \n6             21  \n7             21  \n8             20  \n9             17  ",
      "text/html": "<div>\n<style scoped>\n    .dataframe tbody tr th:only-of-type {\n        vertical-align: middle;\n    }\n\n    .dataframe tbody tr th {\n        vertical-align: top;\n    }\n\n    .dataframe thead th {\n        text-align: right;\n    }\n</style>\n<table border=\"1\" class=\"dataframe\">\n  <thead>\n    <tr style=\"text-align: right;\">\n      <th></th>\n      <th>song_id</th>\n      <th>song_title</th>\n      <th>artist_names</th>\n      <th>times_sampled</th>\n    </tr>\n  </thead>\n  <tbody>\n    <tr>\n      <th>0</th>\n      <td>Lyn-Collins/Think-(About-It)</td>\n      <td>Think (About It)</td>\n      <td>[Lyn Collins]</td>\n      <td>38</td>\n    </tr>\n    <tr>\n      <th>1</th>\n      <td>Beside/Change-the-Beat-(Female-Version)</td>\n      <td>Change the Beat (Female Version)</td>\n      <td>[Beside]</td>\n      <td>31</td>\n    </tr>\n    <tr>\n      <th>2</th>\n      <td>The-Winstons/Amen,-Brother</td>\n      <td>Amen, Brother</td>\n      <td>[The Winstons]</td>\n      <td>27</td>\n    </tr>\n    <tr>\n      <th>3</th>\n      <td>Doug-E.-Fresh/La-Di-Da-Di</td>\n      <td>La Di Da Di</td>\n      <td>[Slick Rick, Doug E. Fresh]</td>\n      <td>24</td>\n    </tr>\n    <tr>\n      <th>4</th>\n      <td>James-Brown/Funky-Drummer</td>\n      <td>Funky Drummer</td>\n      <td>[]</td>\n      <td>24</td>\n    </tr>\n    <tr>\n      <th>5</th>\n      <td>Run-DMC/Here-We-Go-(Live-at-the-Funhouse)</td>\n      <td>Here We Go (Live at the Funhouse)</td>\n      <td>[]</td>\n      <td>23</td>\n    </tr>\n    <tr>\n      <th>6</th>\n      <td>The-Honey-Drippers/Impeach-the-President</td>\n      <td>Impeach the President</td>\n      <td>[]</td>\n      <td>21</td>\n    </tr>\n    <tr>\n      <th>7</th>\n      <td>Lil-Jon/Who-U-Wit%3F</td>\n      <td>Who U Wit?</td>\n      <td>[The East Side Boyz, Lil Jon]</td>\n      <td>21</td>\n    </tr>\n    <tr>\n      <th>8</th>\n      <td>Mountain/Long-Red</td>\n      <td>Long Red</td>\n      <td>[Mountain]</td>\n      <td>20</td>\n    </tr>\n    <tr>\n      <th>9</th>\n      <td>YG/I%27m-Good</td>\n      <td>I'm Good</td>\n      <td>[YG]</td>\n      <td>17</td>\n    </tr>\n  </tbody>\n</table>\n</div>"
     },
     "execution_count": 10,
     "metadata": {},
     "output_type": "execute_result"
    }
   ],
   "source": [
    "query = \"\"\"\n",
    "MATCH (:Song)-[r:SAMPLES]->(target:Song)\n",
    "WITH target, COUNT(DISTINCT r) AS times_sampled\n",
    "OPTIONAL MATCH (target)-[:HAS_ARTIST]->(artist:Artist)\n",
    "WITH target.id AS song_id,\n",
    "     target.title AS song_title,\n",
    "     COLLECT(DISTINCT artist.name) AS artist_names,\n",
    "     times_sampled\n",
    "RETURN song_id, song_title, artist_names, times_sampled\n",
    "ORDER BY times_sampled DESC\n",
    "LIMIT 10\n",
    "\"\"\"\n",
    "run_query(query)"
   ],
   "metadata": {
    "collapsed": false,
    "ExecuteTime": {
     "end_time": "2025-04-13T21:42:13.085418Z",
     "start_time": "2025-04-13T21:42:12.888741Z"
    }
   },
   "id": "3233fe7cee2e753b",
   "execution_count": 10
  },
  {
   "cell_type": "markdown",
   "source": [
    "## Genre distribution"
   ],
   "metadata": {
    "collapsed": false
   },
   "id": "f00317310dbd2554"
  },
  {
   "cell_type": "code",
   "outputs": [
    {
     "data": {
      "text/plain": "                         genre  count\n0                      hip hop   2424\n1           east coast hip hop    745\n2                  gangsta rap    544\n3                   electronic    539\n4                          rap    521\n...                        ...    ...\n1400  rap/alternative and punk      1\n1401                         ?      1\n1402                  jermaine      1\n1403               rap hip-hop      1\n1404          psychedelic folk      1\n\n[1405 rows x 2 columns]",
      "text/html": "<div>\n<style scoped>\n    .dataframe tbody tr th:only-of-type {\n        vertical-align: middle;\n    }\n\n    .dataframe tbody tr th {\n        vertical-align: top;\n    }\n\n    .dataframe thead th {\n        text-align: right;\n    }\n</style>\n<table border=\"1\" class=\"dataframe\">\n  <thead>\n    <tr style=\"text-align: right;\">\n      <th></th>\n      <th>genre</th>\n      <th>count</th>\n    </tr>\n  </thead>\n  <tbody>\n    <tr>\n      <th>0</th>\n      <td>hip hop</td>\n      <td>2424</td>\n    </tr>\n    <tr>\n      <th>1</th>\n      <td>east coast hip hop</td>\n      <td>745</td>\n    </tr>\n    <tr>\n      <th>2</th>\n      <td>gangsta rap</td>\n      <td>544</td>\n    </tr>\n    <tr>\n      <th>3</th>\n      <td>electronic</td>\n      <td>539</td>\n    </tr>\n    <tr>\n      <th>4</th>\n      <td>rap</td>\n      <td>521</td>\n    </tr>\n    <tr>\n      <th>...</th>\n      <td>...</td>\n      <td>...</td>\n    </tr>\n    <tr>\n      <th>1400</th>\n      <td>rap/alternative and punk</td>\n      <td>1</td>\n    </tr>\n    <tr>\n      <th>1401</th>\n      <td>?</td>\n      <td>1</td>\n    </tr>\n    <tr>\n      <th>1402</th>\n      <td>jermaine</td>\n      <td>1</td>\n    </tr>\n    <tr>\n      <th>1403</th>\n      <td>rap hip-hop</td>\n      <td>1</td>\n    </tr>\n    <tr>\n      <th>1404</th>\n      <td>psychedelic folk</td>\n      <td>1</td>\n    </tr>\n  </tbody>\n</table>\n<p>1405 rows × 2 columns</p>\n</div>"
     },
     "execution_count": 14,
     "metadata": {},
     "output_type": "execute_result"
    }
   ],
   "source": [
    "query = \"\"\"\n",
    "MATCH (:Song)-[:BELONGS_TO_GENRE]->(g:Genre)\n",
    "RETURN g.name AS genre, COUNT(*) AS count\n",
    "ORDER BY count DESC\n",
    "\"\"\"\n",
    "run_query(query)"
   ],
   "metadata": {
    "collapsed": false,
    "ExecuteTime": {
     "end_time": "2025-04-14T03:58:28.012749Z",
     "start_time": "2025-04-14T03:58:27.910701Z"
    }
   },
   "id": "196455424cf7ebb3",
   "execution_count": 14
  },
  {
   "cell_type": "code",
   "outputs": [],
   "source": [],
   "metadata": {
    "collapsed": false
   },
   "id": "5b461f0de5cdc8ec"
  }
 ],
 "metadata": {
  "kernelspec": {
   "display_name": "Python 3",
   "language": "python",
   "name": "python3"
  },
  "language_info": {
   "codemirror_mode": {
    "name": "ipython",
    "version": 2
   },
   "file_extension": ".py",
   "mimetype": "text/x-python",
   "name": "python",
   "nbconvert_exporter": "python",
   "pygments_lexer": "ipython2",
   "version": "2.7.6"
  }
 },
 "nbformat": 4,
 "nbformat_minor": 5
}
